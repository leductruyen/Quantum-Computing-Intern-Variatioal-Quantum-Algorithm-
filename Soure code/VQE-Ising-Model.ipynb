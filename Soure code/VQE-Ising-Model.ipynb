{
 "cells": [
  {
   "cell_type": "markdown",
   "metadata": {},
   "source": [
    "**Import necessary packages**"
   ]
  },
  {
   "cell_type": "code",
   "execution_count": 1,
   "metadata": {},
   "outputs": [],
   "source": [
    "from qiskit.circuit.library import TwoLocal, EfficientSU2, RealAmplitudes, NLocal, PauliTwoDesign\n",
    "# from qiskit_nature.circuit.library import UCCSD, PUCCD, SUCCD # chemistry simulation ansatzes, for example the UCCSD ansatz prepares a state where tuning the parameters turns excitations on and off\n",
    "from qiskit.circuit import Parameter, ParameterVector, QuantumCircuit, QuantumRegister, ClassicalRegister\n",
    "from qiskit.algorithms.optimizers import COBYLA, L_BFGS_B, SPSA, SLSQP\n",
    "import numpy as np \n",
    "from numpy import sqrt, pi, linalg\n",
    "import matplotlib.pyplot as plt\n",
    "from scipy.optimize import minimize\n",
    "from qiskit.algorithms import VQE, NumPyMinimumEigensolver\n",
    "from qiskit.result import marginal_counts\n",
    "from IPython.display import display, clear_output\n",
    "from qiskit import Aer, transpile, assemble\n",
    "from qiskit.utils import QuantumInstance\n",
    "from qiskit.visualization import plot_histogram, plot_state_city, plot_bloch_multivector, plot_bloch_vector, plot_state_qsphere\n",
    "from qiskit.quantum_info import Statevector, Operator, Pauli\n",
    "from qiskit_optimization.algorithms import MinimumEigenOptimizer\n",
    "from qiskit.opflow import Z, X, I, StateFn, CircuitStateFn, SummedOp, PauliOp\n",
    "from qiskit_optimization import QuadraticProgram\n",
    "from qiskit.providers.aer.noise import NoiseModel\n",
    "from qiskit import IBMQ, execute\n",
    "IBMQ.load_account()\n",
    "provider = IBMQ.get_provider(group='open', project='main')"
   ]
  },
  {
   "cell_type": "markdown",
   "metadata": {},
   "source": [
    "**Construct general circuit ansatz**"
   ]
  },
  {
   "cell_type": "code",
   "execution_count": 2,
   "metadata": {},
   "outputs": [],
   "source": [
    "# Prepare general State Circuit (n Qubit)-Multi-control qubit\n",
    "def PrepareState_Gen(parameter,q = 2):\n",
    "    # Multi control U3 gate\n",
    "    def MCUGate(p1,p2,ctrlqubit):\n",
    "        ctrl = QuantumCircuit(1, name='U3')\n",
    "         # U3 decompose\n",
    "        ctrl.rz(p2,0)\n",
    "        ctrl.rx(-np.pi/2,0)\n",
    "        ctrl.rz(p1,0)\n",
    "        ctrl.rx(np.pi/2,0)\n",
    "        ctrl.rz(-p2,0)\n",
    "        # U3 decompose\n",
    "        ctrl = ctrl.to_gate().control(ctrlqubit)\n",
    "        return ctrl\n",
    "    # State's bit string converter\n",
    "    def Bitstring(inter,leng):\n",
    "        result = []\n",
    "        while inter >= 2:\n",
    "            d = inter % 2\n",
    "            inter = inter//2\n",
    "            result.append(d)\n",
    "        result.append(inter)\n",
    "        for i in range(leng-len(result)):\n",
    "            result.append(0)\n",
    "        return result\n",
    "\n",
    "    qg = QuantumRegister(q,'q')\n",
    "    qc = QuantumCircuit(qg)\n",
    "    qc.u(parameter[0],parameter[1],-parameter[1],q-1)\n",
    "    qc.barrier(range(q))\n",
    "    theta = 2\n",
    "    # Apply multi-control qubit gate\n",
    "    for i in range(q-1):\n",
    "        listctrl = [ i+n+1 for n in range(q-i-1)]\n",
    "        listctrl.append(i)\n",
    "        for j in range(2**(q-i-1)):\n",
    "            bitstring = Bitstring(j,q-i-1)\n",
    "            for n in range(q-i-1):\n",
    "                if bitstring[n] == 0:\n",
    "                    qc.x(i+n+1)\n",
    "            qc.append(MCUGate(parameter[theta],parameter[theta+1],q-i-1),listctrl) \n",
    "            for n in range(q-i-1):\n",
    "                if bitstring[n] == 0:\n",
    "                    qc.x(i+n+1) \n",
    "            theta +=2\n",
    "        qc.barrier(range(q))\n",
    "    return qc"
   ]
  },
  {
   "cell_type": "markdown",
   "metadata": {},
   "source": [
    "**Construct Pauli's expectation**"
   ]
  },
  {
   "cell_type": "markdown",
   "metadata": {},
   "source": [
    "*Exact classical simulator expectation*"
   ]
  },
  {
   "cell_type": "code",
   "execution_count": 3,
   "metadata": {},
   "outputs": [],
   "source": [
    "def Expectation_Exact(gate=None,q1=None,q2=None,circ=None):\n",
    "    qc = QuantumCircuit(circ.num_qubits,circ.num_qubits)\n",
    "    qc.append(circ,[i for i in range(circ.num_qubits)])\n",
    "    if gate == \"Z\":\n",
    "        P1 = Statevector(qc).probabilities([q1]) # P(i)\n",
    "        P2 = Statevector(qc).probabilities([q2]) # P(j)\n",
    "        P00 = Statevector(qc).probabilities([q1,q2]) # P(i,j)\n",
    "        firesult=(4*P00[0])-1-(2*(P1[0])-1)-(2*(P2[0])-1) # =(4*P(i,j=0)-1-(2P(i=0)-1)-(2P(j=0)-1))\n",
    "    elif gate == \"X\":\n",
    "        qc.h(q1) # Apply H gate to apply X basic measurement\n",
    "        P = Statevector(qc).probabilities([q1]) # P(i)\n",
    "        firesult=(2*P[0]-1) # =(2P(i=0)-1)\n",
    "    return firesult"
   ]
  },
  {
   "cell_type": "markdown",
   "metadata": {},
   "source": [
    "*Idea, noise and real backend running of expectation*"
   ]
  },
  {
   "cell_type": "code",
   "execution_count": 4,
   "metadata": {},
   "outputs": [],
   "source": [
    "def Expectation_backend(gate=None,q1=None,q2=None,circ=None,realbackend=provider.get_backend('ibmq_bogota')):\n",
    "    qc = QuantumCircuit(circ.num_qubits,circ.num_qubits)\n",
    "    qc.append(circ,[i for i in range(circ.num_qubits)])\n",
    "    \n",
    "    # For Idea and noise model simulator\n",
    "    backend = Aer.get_backend('qasm_simulator')\n",
    "    noise_model = NoiseModel.from_backend(realbackend)\n",
    "    # For real backend running\n",
    "    # backend = realbackend\n",
    "    shot=20000\n",
    "    \n",
    "    # Get string of state\n",
    "    qubit = qc.num_qubits\n",
    "    bitq1 = '' # Get string of |...01...> state\n",
    "    bitq2 = '' # Get string of |...10...> state\n",
    "    bit0 = ''  # Get string of |...00...> state\n",
    "    for i in range(qubit):\n",
    "        bit0 += '0'\n",
    "        if i == q1:\n",
    "            bitq1 += '1'\n",
    "            bitq2 += '0'\n",
    "        elif i == q2:\n",
    "            bitq2 += '1'\n",
    "            bitq1 += '0'\n",
    "        else:\n",
    "            bitq1 += '0'\n",
    "            bitq2 += '0'\n",
    "    bit0 = bit0[::-1]\n",
    "    bitq1 = bitq1[::-1]\n",
    "    bitq2 = bitq2[::-1]\n",
    "    \n",
    "    if gate == \"Z\":\n",
    "        qc.measure([q1,q2],[q1,q2])\n",
    "        tqc = transpile(qc, backend,optimization_level=3)\n",
    "        qobj = assemble(tqc,shots=shot)\n",
    "        result = backend.run(qobj,noise_model=noise_model).result().get_counts(qc)\n",
    "        for output in [bit0,bitq1,bitq2]:\n",
    "            if output in result:\n",
    "                result[output]/=shot\n",
    "            else:\n",
    "                result[output] = 0\n",
    "        firesult=4*(result[bit0])-1-(2*(result[bit0]+result[bitq1])-1)-(2*(result[bit0]+result[bitq2])-1)# =(4*P(i,j=0)-1-(2P(i=0)-1)-(2P(j=0)-1))\n",
    "    elif gate == \"X\":\n",
    "        qc.h(q1) # Apply H gate to apply X basic measurement\n",
    "        qc.measure(q1,q1)  \n",
    "        tqc = transpile(qc, backend,optimization_level=3)\n",
    "        qobj = assemble(tqc,shots=shot)\n",
    "        result = backend.run(qobj,noise_model=noise_model).result().get_counts(qc)\n",
    "        if bit0 in result:\n",
    "            result[bit0]/=shot\n",
    "        else:\n",
    "            result[bit0] = 0\n",
    "        firesult=(2*(result[bit0])-1)# =(2P(i=0)-1)\n",
    "    return firesult"
   ]
  },
  {
   "cell_type": "markdown",
   "metadata": {},
   "source": [
    "**Ising VQE method's function**"
   ]
  },
  {
   "cell_type": "markdown",
   "metadata": {},
   "source": [
    "The VQE function will be built from the expectation function constructed above "
   ]
  },
  {
   "cell_type": "markdown",
   "metadata": {},
   "source": [
    "*Exact classical simulator*"
   ]
  },
  {
   "cell_type": "code",
   "execution_count": 1,
   "metadata": {},
   "outputs": [],
   "source": [
    "def vqe_exact(parameter, q,h):\n",
    "    # parameters = ParameterVector('θ', 2**(q+1)-2)\n",
    "    # qc = PrepareState_Gen(parameters,q)\n",
    "    qc = RealAmplitudes(q, entanglement='linear', reps=1, insert_barriers=True)\n",
    "    qc = qc.assign_parameters(parameter)\n",
    "    Ising_Hamilton = 0\n",
    "    for i in range(q):\n",
    "        Xterm = Expectation_Exact(\"X\",i,circ=qc)\n",
    "        if i < (q-1):\n",
    "            Zterm = Expectation_Exact(\"Z\",i,i+1,circ = qc)\n",
    "        elif i == (q-1):\n",
    "            Zterm = 0\n",
    "        Ising_Hamilton = Ising_Hamilton + Zterm + h*Xterm\n",
    "    return Ising_Hamilton "
   ]
  },
  {
   "cell_type": "markdown",
   "metadata": {},
   "source": [
    "*Backend running*"
   ]
  },
  {
   "cell_type": "code",
   "execution_count": 6,
   "metadata": {},
   "outputs": [],
   "source": [
    "def vqe_backend(parameter, q,h):\n",
    "    qc = RealAmplitudes(q, entanglement='linear', reps=1, insert_barriers=True)\n",
    "    qc = qc.assign_parameters(parameter)\n",
    "    Ising_Hamilton = 0\n",
    "    for i in range(q):\n",
    "        Xterm = Expectation_backend(\"X\",i,circ=qc)\n",
    "        if i < (q-1):\n",
    "            Zterm = Expectation_backend(\"Z\",i,i+1,circ = qc)\n",
    "        elif i == (q-1):\n",
    "            Zterm = 0\n",
    "        Ising_Hamilton = Ising_Hamilton + Zterm + h*Xterm\n",
    "    return Ising_Hamilton"
   ]
  },
  {
   "cell_type": "markdown",
   "metadata": {},
   "source": [
    "The previous ones, one IBM real backend job corresponds to one Ising term, so we need many jobs (time) to compute the expectation of the whole Ising Hamiltonian as well as results of quantum function derivative. I thus optimize the code to compute entirely our objective function by one IBM job"
   ]
  },
  {
   "cell_type": "markdown",
   "metadata": {},
   "source": [
    "**Ising VQE method's optimized function**"
   ]
  },
  {
   "cell_type": "markdown",
   "metadata": {},
   "source": [
    "*Exact classical simulator optimized running*"
   ]
  },
  {
   "cell_type": "code",
   "execution_count": 7,
   "metadata": {},
   "outputs": [],
   "source": [
    "def vqe_exact_opt(parameter,q,h,file=None,realbackend = Aer.get_backend('statevector_simulator')):\n",
    "    # parameters = ParameterVector('θ', 2**(q+1)-2)\n",
    "    # qc = PrepareState_Gen(parameters,q)\n",
    "    qc = RealAmplitudes(q, entanglement='linear', reps=1)\n",
    "    qc = qc.assign_parameters(parameter)\n",
    "\n",
    "    # For noise model simulator\n",
    "    # backend = Aer.get_backend('statevector_simulator')\n",
    "    # noise_model = NoiseModel.from_backend(realbackend)\n",
    "    # For exact classical simulator \n",
    "    backend = realbackend\n",
    "\n",
    "\n",
    "    # Function turning out Ising term's expectation values from backend running result \n",
    "    def Res(result,p,gate):\n",
    "        value = 0\n",
    "        if gate == 'X':\n",
    "            for index in result:\n",
    "                if index[::-1][p:(p+1)] == '0':\n",
    "                    value += result[index]\n",
    "        elif gate == 'Z':\n",
    "            for index in result:\n",
    "                if index[::-1][p:(p+2)] == '00' or index[::-1][p:(p+2)] == '11':\n",
    "                    value += result[index]\n",
    "        return (2*value -1)\n",
    "        \n",
    "    # Ising Hamilton circuit       \n",
    "    Z_cir =  QuantumCircuit(q)\n",
    "    Z_cir.append(qc,[i for i in range(q)])\n",
    "    X_cir =  QuantumCircuit(q)\n",
    "    X_cir.append(qc,[i for i in range(q)])\n",
    "    X_cir.h([i for i in range(q)])\n",
    "    Hamil_cir = [Z_cir,X_cir]\n",
    "    \n",
    "    # Backend running\n",
    "    job = execute(Hamil_cir, backend) \n",
    "    result = job.result().get_counts()\n",
    "\n",
    "    # Ising Hamilton expectation value\n",
    "    Ising_Hamilton = 0\n",
    "    for i in range(q):\n",
    "        Xterm = Res(result[1],i,'X')\n",
    "        if i < (q-1):\n",
    "            Zterm = Res(result[0],i,'Z')\n",
    "        elif i == (q-1):\n",
    "            Zterm = 0\n",
    "        Ising_Hamilton = Ising_Hamilton + Zterm + h*Xterm\n",
    "\n",
    "    # File write\n",
    "    file.write(f'\\n Job ID: {job.job_id()} \\n ')\n",
    "    file.write(f'Parameter: {parameter} \\n ')\n",
    "    file.write(f'Result: {result} \\n ')\n",
    "    file.write(f'Ising Hamilton result: {Ising_Hamilton} \\n')\n",
    "    return Ising_Hamilton"
   ]
  },
  {
   "cell_type": "markdown",
   "metadata": {},
   "source": [
    "*Backend optimized running*"
   ]
  },
  {
   "cell_type": "code",
   "execution_count": 8,
   "metadata": {},
   "outputs": [],
   "source": [
    "def vqe_backend_opt(parameter,q,h,meas_map = [[0],[1],[2]],file=None,shots=20000,realbackend = provider.get_backend('ibmq_belem')):\n",
    "    # parameters = ParameterVector('θ', 2**(q+1)-2)\n",
    "    # qc = PrepareState_Gen(parameters,q)\n",
    "    qc = RealAmplitudes(q, entanglement='linear', reps=1, insert_barriers=True)\n",
    "    qc = qc.assign_parameters(parameter)\n",
    "\n",
    "    # For Idea and noise model simulator\n",
    "    # backend = Aer.get_backend('qasm_simulator')\n",
    "    # noise_model = NoiseModel.from_backend(realbackend)\n",
    "    # For real backend running\n",
    "    backend = realbackend\n",
    "    \n",
    "    # Create a circuit corresponding to a Ising term expectation value\n",
    "    def Qcir(gate=None,p=None,q = q,qc = qc):\n",
    "        if gate == 'Z':\n",
    "            cir = QuantumCircuit(q,2)\n",
    "            cir.append(qc,[i for i in range(q)])\n",
    "            cir.measure([p,p+1], [0,1])\n",
    "        elif gate == 'X':\n",
    "            cir = QuantumCircuit(q,1)\n",
    "            cir.append(qc,[i for i in range(q)])\n",
    "            cir.h(p)\n",
    "            cir.measure(p,0)\n",
    "        cir = transpile(cir, backend=backend,optimization_level=3)\n",
    "        return cir\n",
    "\n",
    "    # Create propability results from backend running result\n",
    "    def Check(result,index,shots = shots):\n",
    "        if index not in result:\n",
    "            result[index]=0\n",
    "        return result[index]/shots\n",
    "\n",
    "    # Ising Hamilton circuit     \n",
    "    Z_cir = [i for i in range(q-1)]\n",
    "    X_cir = [i for i in range(q)]\n",
    "    for i in range(q):\n",
    "        X_cir[i] = Qcir('X',i)\n",
    "        if i < (q-1):\n",
    "            Z_cir[i] = Qcir('Z',i)\n",
    "    Hamil_cir = []\n",
    "    Hamil_cir = Z_cir+X_cir\n",
    "    \n",
    "    # Backend running\n",
    "    Assem = assemble(Hamil_cir, backend,meas_map=meas_map,shots=shots)\n",
    "    job = backend.run(Assem)    \n",
    "    result = job.result().get_counts()\n",
    "    \n",
    "    # Ising Hamilton expectation value\n",
    "    Ising_Hamilton = 0\n",
    "    for i in range(q):\n",
    "        Xterm = 2*Check(result[q+i-1],'0')-1\n",
    "        if i < (q-1):\n",
    "            Zterm = 4*(Check(result[i],'00'))-1-(2*(Check(result[i],'00')+Check(result[i],'01'))-1)-(2*(Check(result[i],'00')+Check(result[i],'10'))-1)\n",
    "        elif i == (q-1):\n",
    "            Zterm = 0\n",
    "        Ising_Hamilton = Ising_Hamilton + Zterm + h*Xterm\n",
    "\n",
    "    # File write\n",
    "    file.write(f'\\n Job ID: {job.job_id()} \\n ')\n",
    "    file.write(f'Parameter: {parameter} \\n ')\n",
    "    file.write(f'Result: {result} \\n ')\n",
    "    file.write(f'Ising Hamilton result: {Ising_Hamilton} \\n')\n",
    "    return Ising_Hamilton"
   ]
  },
  {
   "cell_type": "markdown",
   "metadata": {},
   "source": [
    "**Exact classical diagonal method**"
   ]
  },
  {
   "cell_type": "markdown",
   "metadata": {},
   "source": [
    "*Generate Ising Hamiltonian matrix for classical solver*\n"
   ]
  },
  {
   "cell_type": "code",
   "execution_count": 9,
   "metadata": {},
   "outputs": [],
   "source": [
    "def Ising_Hamilton(q,h):\n",
    "    Ising_Hamilton = 0\n",
    "    for i in range(q):\n",
    "        Zterm  = 1\n",
    "        Xterm  = 1\n",
    "        for j in range(q-1):\n",
    "            if j == i:\n",
    "                Zterm = Zterm^Z^Z\n",
    "                Xterm  = Xterm^X^I\n",
    "            elif i == (q-1) and j == (i-1):\n",
    "                Xterm = Xterm^I^X\n",
    "                Zterm = 0\n",
    "            else:\n",
    "                Zterm = Zterm^I\n",
    "                Xterm = Xterm^I\n",
    "        Ising_Hamilton = Ising_Hamilton + Zterm + h*Xterm\n",
    "    return Ising_Hamilton"
   ]
  },
  {
   "cell_type": "markdown",
   "metadata": {},
   "source": [
    "*Ising classical solver*"
   ]
  },
  {
   "cell_type": "code",
   "execution_count": 10,
   "metadata": {},
   "outputs": [
    {
     "name": "stdout",
     "output_type": "stream",
     "text": [
      "Eigenvectors\n",
      "[[-4.13452607e-01+0.j  7.07106781e-01+0.j  5.73634850e-01+0.j\n",
      "   3.04688356e-32-0.j]\n",
      " [ 5.73634850e-01+0.j -2.37634277e-16+0.j  4.13452607e-01-0.j\n",
      "   7.07106781e-01+0.j]\n",
      " [ 5.73634850e-01+0.j -2.37634277e-16+0.j  4.13452607e-01-0.j\n",
      "  -7.07106781e-01-0.j]\n",
      " [-4.13452607e-01+0.j -7.07106781e-01+0.j  5.73634850e-01-0.j\n",
      "   1.56150707e-32-0.j]]\n",
      "Eigenvalues\n",
      "[-3.16227766+0.j  1.        +0.j  3.16227766+0.j -1.        +0.j]\n",
      "Ground State\n",
      "[-0.41345261+0.j  0.57363485+0.j  0.57363485+0.j -0.41345261+0.j]\n",
      "Ground Energy\n",
      "(-3.162277660168381+0j)\n"
     ]
    }
   ],
   "source": [
    "q = 2\n",
    "h = 1.5\n",
    "\n",
    "# Haminlton matrix\n",
    "Hal =  Operator(Ising_Hamilton(q,h))\n",
    "\n",
    "# Classical solver\n",
    "w,v = np.linalg.eig(Hal)\n",
    "print(\"Eigenvectors\")\n",
    "print(v)\n",
    "print(\"Eigenvalues\")\n",
    "print(w)\n",
    "\n",
    "# Find ground state and energy in ensemble solutions\n",
    "minimum=w[0]\n",
    "min_spot=0\n",
    "for i in range(1,2**q):\n",
    "    if w[i]<minimum:\n",
    "        min_spot=i\n",
    "        minimum=w[i]                   \n",
    "groundstate = v[:,min_spot]\n",
    "print(\"Ground State\")\n",
    "print(groundstate)\n",
    "print(\"Ground Energy\")\n",
    "print(minimum)"
   ]
  },
  {
   "cell_type": "markdown",
   "metadata": {},
   "source": [
    "**VQE method running**"
   ]
  },
  {
   "cell_type": "markdown",
   "metadata": {},
   "source": [
    "*Cobyla optimization method*"
   ]
  },
  {
   "cell_type": "markdown",
   "metadata": {},
   "source": [
    "* Manual Ising VQE solver"
   ]
  },
  {
   "cell_type": "code",
   "execution_count": 11,
   "metadata": {},
   "outputs": [
    {
     "name": "stdout",
     "output_type": "stream",
     "text": [
      "     fun: -3.1622776600691695\n",
      "   maxcv: 0.0\n",
      " message: 'Optimization terminated successfully.'\n",
      "    nfev: 178\n",
      "  status: 1\n",
      " success: True\n",
      "       x: array([-1.57080502e+00,  3.14160172e+00,  1.89254522e+00, -4.32021355e-06,\n",
      "        5.03414437e+00,  3.14159218e+00])\n"
     ]
    }
   ],
   "source": [
    "# Ising VQE solver\n",
    "q = 2\n",
    "h = 1.5\n",
    "tol = 1e-5\n",
    "parameters = ParameterVector('θ', 2**(q+1)-2)\n",
    "State = PrepareState_Gen(parameters,q)\n",
    "\n",
    "parameter = [np.random.uniform(0,(2-(i % 2))*np.pi) for i in range(State.num_parameters)]\n",
    "re = minimize(vqe_exact,parameter,args=(q, h),method=\"COBYLA\",tol=tol)\n",
    "print(re)"
   ]
  },
  {
   "cell_type": "markdown",
   "metadata": {},
   "source": [
    "* Qiskit's VQE solver"
   ]
  },
  {
   "cell_type": "code",
   "execution_count": 12,
   "metadata": {},
   "outputs": [
    {
     "name": "stdout",
     "output_type": "stream",
     "text": [
      "{   'aux_operator_eigenvalues': None,\n",
      "    'cost_function_evals': 138,\n",
      "    'eigenstate': array([ 0.41344932+0.00000000e+00j, -0.57362517-1.92350392e-05j,\n",
      "       -0.57362744-9.35105051e-06j,  0.41347959-7.05874393e-06j]),\n",
      "    'eigenvalue': (-3.162277653754669+0j),\n",
      "    'optimal_parameters': {   ParameterVectorElement(θ[3]): -3.3532418141527855e-05,\n",
      "                              ParameterVectorElement(θ[5]): 3.337317472351893e-05,\n",
      "                              ParameterVectorElement(θ[1]): 3.14160895519913,\n",
      "                              ParameterVectorElement(θ[4]): 1.2491199420762298,\n",
      "                              ParameterVectorElement(θ[2]): 1.8925384257930105,\n",
      "                              ParameterVectorElement(θ[0]): 1.5708239672838564},\n",
      "    'optimal_point': array([ 1.57082397e+00,  3.14160896e+00,  1.89253843e+00, -3.35324181e-05,\n",
      "        1.24911994e+00,  3.33731747e-05]),\n",
      "    'optimal_value': -3.162277653754669,\n",
      "    'optimizer_evals': None,\n",
      "    'optimizer_time': 2.13435435295105}\n"
     ]
    }
   ],
   "source": [
    "# VQE Qiskit solver\n",
    "q = 2\n",
    "h = 1.5\n",
    "\n",
    "# Get Ising Hamilton operator\n",
    "op = Ising_Hamilton(q,h)\n",
    "\n",
    "backend = Aer.get_backend('statevector_simulator')\n",
    "seed = 132     #set random seed\n",
    "quantum_instance = QuantumInstance(backend=backend, seed_simulator=seed, seed_transpiler=seed)\n",
    "optimizer = COBYLA(maxiter=1000)\n",
    "\n",
    "# Using my general ansatz\n",
    "parameters = ParameterVector('θ', 2**(q+1)-2)\n",
    "State = PrepareState_Gen(parameters,q)\n",
    "\n",
    "vqeqiskit = VQE(State,optimizer=optimizer,quantum_instance=quantum_instance)\n",
    "result = vqeqiskit.compute_minimum_eigenvalue(op)\n",
    "print(result)"
   ]
  },
  {
   "cell_type": "markdown",
   "metadata": {},
   "source": [
    "*Parameter-shift rule method for Pauli rotation gate class ansatz*"
   ]
  },
  {
   "cell_type": "code",
   "execution_count": 14,
   "metadata": {},
   "outputs": [
    {
     "name": "stdout",
     "output_type": "stream",
     "text": [
      "-3.162277660168379\n"
     ]
    }
   ],
   "source": [
    "# Notice: We need to modify the ansatz of our using vqe function to appropriate one \n",
    "q = 2\n",
    "h = 1.5\n",
    "l_rate = 0.3 # Learning rate\n",
    "numberofiteration = 50 # Number of iteration for optimizing parameter values\n",
    "itera0 = []\n",
    "value0 = []\n",
    "\n",
    "# Ansatz\n",
    "real = RealAmplitudes(q, entanglement='linear', reps=1, insert_barriers=True)\n",
    "# Initial point\n",
    "parameters = [np.random.uniform(0,2*np.pi) for i in range(real.num_parameters)]\n",
    "\n",
    "# Running iteration for updating optimal paramter vector\n",
    "for j in range(numberofiteration):\n",
    "    itera0.append(j)\n",
    "    Dvqe = [0 for i in range(len(parameters))]\n",
    "    # Instantiate a vector saving parameter values, use for saving current parameter value vector\n",
    "    save_parameters = [0 for i in range(len(parameters))]\n",
    "    for i in range(len(parameters)):\n",
    "        save_parameters[i] = parameters[i]\n",
    "    \n",
    "    # Iteration for updating ith paramter vector value\n",
    "    for i in range(len(parameters)):\n",
    "        PSR_parameter = [0 for i in range(len(parameters))]\n",
    "        PSR_parameter[i] = np.pi/2 # Create paremeter-shift vector\n",
    "        \n",
    "        # Calculate partial derivative to ith parameter\n",
    "        # Derivative: df(theta) = 1/2*(f(theta+pi/2)-f(theta-pi/2)) \n",
    "        Dvqe[i] = (1/2*(vqe_exact([save_parameters[i] + PSR_parameter[i] for i in range(len(save_parameters))],q,h)-vqe_exact([save_parameters[i] - PSR_parameter[i] for i in range(len(save_parameters))],q,h)))\n",
    "        \n",
    "        # Update ith paramter vector value\n",
    "        parameters[i]-=l_rate*Dvqe[i]\n",
    "    value0.append(vqe_exact(parameters,q,h))\n",
    "print(vqe_exact(parameters,q,h))"
   ]
  },
  {
   "cell_type": "markdown",
   "metadata": {},
   "source": [
    "*Parameter-shift rule method for general ansatz (Multi-control U3 gate)*"
   ]
  },
  {
   "cell_type": "code",
   "execution_count": 18,
   "metadata": {},
   "outputs": [
    {
     "name": "stdout",
     "output_type": "stream",
     "text": [
      "-3.1576607600802835\n"
     ]
    }
   ],
   "source": [
    "# Notice: We need to modify the ansatz of our using vqe function to appropriate one \n",
    "q = 2\n",
    "h = 1.5\n",
    "l_rate = 0.05 # Learning rate\n",
    "numberofiteration = 100 # Number of iteration for optimizing parameter values\n",
    "ite = []\n",
    "ite_value = []\n",
    "\n",
    "# Ansatz\n",
    "parameter = ParameterVector('θ', 2**(q+1)-2)\n",
    "State = PrepareState_Gen(parameter,q)\n",
    "# Initial point\n",
    "parameters = [np.random.uniform(0,(2-(i % 2))*np.pi) for i in range(State.num_parameters)]\n",
    "\n",
    "# Running iteration for updating optimal paramters\n",
    "for j in range(numberofiteration):\n",
    "    ite.append(j)\n",
    "    Dvqe = [0 for i in range(len(parameters))]\n",
    "    # Instantiate a vector saving parameter values, use for saving current parameter value vector\n",
    "    save_parameters = [0 for i in range(len(parameters))]\n",
    "    for i in range(len(parameters)):\n",
    "        save_parameters[i] = parameters[i]\n",
    "\n",
    "    # Iteration for updating ith paramter vector value\n",
    "    for i in range(len(parameters)):\n",
    "        PSR_parameter = [0 for i in range(len(parameters))]\n",
    "        PSR_parameter[i] = np.pi/2 # Create paremeter-shift vector\n",
    "        \n",
    "        # Calculate partial derivative to ith parameter\n",
    "        if i % 2 == 0:\n",
    "            # Derivative of theta: df(theta) = 1/2*(f(theta+pi/2)-f(theta-pi/2))\n",
    "            Dvqe[i] = (1/2*(vqe_exact([ save_parameters[i] + PSR_parameter[i] for i in range(len(save_parameters))],q,h)-vqe_exact([ save_parameters[i] - PSR_parameter[i] for i in range(len( save_parameters))],q,h)))\n",
    "        else:\n",
    "            # Derivative of theta: df(phi) = 1/sqrt(2)*(f(phi+pi/2)-f(phi-pi/2))\n",
    "            Dvqe[i] = (1/sqrt(2)*(vqe_exact([ save_parameters[i] + PSR_parameter[i] for i in range(len( save_parameters))],q,h)-vqe_exact([ save_parameters[i] - PSR_parameter[i] for i in range(len( save_parameters))],q,h)))\n",
    "        \n",
    "        # Update ith paramter value vector \n",
    "        parameters[i]-=l_rate*Dvqe[i]\n",
    "    ite_value.append(vqe_exact(parameters,q,h))\n",
    "print(vqe_exact(parameters,q,h))"
   ]
  },
  {
   "cell_type": "markdown",
   "metadata": {},
   "source": [
    "*Classical Gradient Descend-Newton finite difference method*"
   ]
  },
  {
   "cell_type": "code",
   "execution_count": 26,
   "metadata": {},
   "outputs": [
    {
     "name": "stdout",
     "output_type": "stream",
     "text": [
      "-3.143580372951928\n"
     ]
    }
   ],
   "source": [
    "q = 2\n",
    "h = 1.5\n",
    "l_rate = 0.05 # Learning rate\n",
    "numberofiteration = 100  # Number of iteration for optimizing parameter values\n",
    "epsilon = 1e-3 # dx\n",
    "itera3 = []\n",
    "value3 = []\n",
    "\n",
    "# Ansatz\n",
    "parameter = ParameterVector('θ', 2**(q+1)-2)\n",
    "State = PrepareState_Gen(parameter,q)\n",
    "# Initial point\n",
    "parameters = [np.random.uniform(0,(2-(i % 2))*np.pi) for i in range(State.num_parameters)]\n",
    "\n",
    "# Running iteration for updating optimal paramters\n",
    "for j in range(numberofiteration):\n",
    "    itera3.append(j)\n",
    "    Dvqe = [0 for i in range(len(parameters))]\n",
    "    # Instantiate a vector saving parameter values, use for saving current parameter value vector\n",
    "    save_parameters = [0 for i in range(len(parameters))]\n",
    "    for i in range(len(parameters)):\n",
    "        save_parameters[i] = parameters[i]\n",
    "\n",
    "    # Iteration for updating ith paramter vector value\n",
    "    for i in range(len(parameters)):\n",
    "        PSR_parameter = [0 for i in range(len(parameters))]\n",
    "        PSR_parameter[i] = epsilon # Create paremeter-infinitesimal change vector dx\n",
    "        \n",
    "        # Calculate partial derivative to ith parameter\n",
    "         # Derivative: df(theta) = 1/(2dx)*(f(theta+dx)-f(theta-dx)) \n",
    "        Dvqe[i] = (1/(2*epsilon)*(vqe_exact([ save_parameters[i] + PSR_parameter[i] for i in range(len( save_parameters))],q,h)-vqe_exact([ save_parameters[i] - PSR_parameter[i] for i in range(len( save_parameters))],q,h)))\n",
    "        \n",
    "        # Update ith paramter value vector \n",
    "        parameters[i]-=l_rate*Dvqe[i]\n",
    "    value3.append(vqe_exact(parameters,q,h))\n",
    "print(vqe_exact(parameters,q,h))"
   ]
  },
  {
   "cell_type": "markdown",
   "metadata": {},
   "source": [
    "*PSR method optimization for backend real device running*"
   ]
  },
  {
   "cell_type": "code",
   "execution_count": null,
   "metadata": {},
   "outputs": [],
   "source": [
    "q = 2\n",
    "h = 0\n",
    "tol = 1e-3\n",
    "l_rate = 0.3 # Learning rate\n",
    "numberofiteration = 50 # Number of iteration for optimizing parameter values\n",
    "shots = 20000 # Number of experiment shot\n",
    "backend = Aer.get_backend('qasm_simulator') # Idea backend simulator\n",
    "meas_map = None # Qubit mapping\n",
    "\n",
    "# Ansatz\n",
    "qc = RealAmplitudes(q, entanglement='linear', reps=1) \n",
    "# Initial point\n",
    "parameters = [np.random.uniform(0,2*np.pi) for i in range(qc.num_parameters)]\n",
    "# parameters = [np.random.uniform(0,(2-(i % 2))*np.pi) for i in range(2**(q+1)-2)]\n",
    "\n",
    "# Create a circuit corresponding to an Ising term\n",
    "def Qcir(gate=None,p=None,q = q,qc = qc):\n",
    "    if gate == 'Z':\n",
    "        cir = QuantumCircuit(q,2)\n",
    "        cir.append(qc,[i for i in range(q)])\n",
    "        cir.measure([p,p+1], [0,1])\n",
    "    elif gate == 'X':\n",
    "        cir = QuantumCircuit(q,1)\n",
    "        cir.append(qc,[i for i in range(q)])\n",
    "        cir.h(p)\n",
    "        cir.measure(p,0)\n",
    "    cir = transpile(cir, backend=backend,optimization_level=3)\n",
    "    return cir\n",
    "\n",
    "# Return probability corresponding to essemble counting\n",
    "def Check(result,index,shots = shots):\n",
    "    if index not in result:\n",
    "        result[index]=0\n",
    "    return result[index]/shots\n",
    "\n",
    "# Running iteration for updating optimal paramters\n",
    "for j in range(numberofiteration):\n",
    "    Dvqe = [0 for i in range(len(parameters))]\n",
    "    # Create Parameter-shift rule of entire Ising Hamiltonian circuits\n",
    "    Hamil_cir = []\n",
    "    for i in range(len(parameters)):\n",
    "        # Paramter-shift vector\n",
    "        PSR_parameter = [0 for i in range(len(parameters))]\n",
    "        PSR_parameter[i] = np.pi/2\n",
    "        # Two circuts for calculating derivative\n",
    "        nqc = []\n",
    "        nqc.append(qc.assign_parameters([parameters[i] + PSR_parameter[i] for i in range(len(parameters))]))\n",
    "        nqc.append(qc.assign_parameters([parameters[i] - PSR_parameter[i] for i in range(len(parameters))]))\n",
    "        # Create Ising Hamiltonian circuits\n",
    "        for k in range(2):\n",
    "            Z_cir = [0 for i in range(q-1)]\n",
    "            X_cir = [0 for i in range(q)]\n",
    "            for i in range(q):\n",
    "                # X term's circuits\n",
    "                X_cir[i] = Qcir('X',i,q,nqc[k])\n",
    "                # Z term's circuits\n",
    "                if i < (q-1):\n",
    "                    Z_cir[i] = Qcir('Z',i,q,nqc[k])\n",
    "            # Ising Hamilton circuit\n",
    "            Hamil_cir += Z_cir+X_cir\n",
    "    # Run and get results from backend running\n",
    "    job = execute(Hamil_cir, backend,meas_map=meas_map,shots=shots) \n",
    "    result = job.result().get_counts()\n",
    "    # Calculate derivative and update parameters\n",
    "    for i in range(len(parameters)):\n",
    "        Ising_Hamilton = [0,0]\n",
    "        for n in range(2):\n",
    "            for k in range(q):\n",
    "                # Get Ising's X term results\n",
    "                Xterm = 2*Check(result[i*(4*q-2)+n*(2*q-1)+q+k-1],'0')-1\n",
    "                # Get Ising's Z term results\n",
    "                if k < (q-1):\n",
    "                    Zterm = 4*(Check(result[i*(4*q-2)+n*(2*q-1)+k],'00'))-1-(2*(Check(result[i*(4*q-2)+n*(2*q-1)+k],'00')+Check(result[i*(4*q-2)+n*(2*q-1)+k],'01'))-1)-(2*(Check(result[i*(4*q-2)+n*(2*q-1)+k],'00')+Check(result[i*(4*q-2)+n*(2*q-1)+k],'10'))-1)\n",
    "                elif k == (q-1):\n",
    "                    Zterm = 0\n",
    "                # Get Ising Hamiltonian result\n",
    "                Ising_Hamilton[n] = Ising_Hamilton[n] + Zterm + h*Xterm\n",
    "        # Derivative\n",
    "        Dvqe[i] = 1/2*(Ising_Hamilton[0]-Ising_Hamilton[1])\n",
    "        # Update paramters\n",
    "        parameters[i]-=l_rate*Dvqe[i]\n",
    "print(vqe_exact(parameters,q,h))"
   ]
  },
  {
   "cell_type": "markdown",
   "metadata": {},
   "source": [
    "*PSR method optimization for backend exact simulator running*"
   ]
  },
  {
   "cell_type": "code",
   "execution_count": null,
   "metadata": {},
   "outputs": [],
   "source": [
    "q = 2\n",
    "h = 0\n",
    "tol = 1e-3\n",
    "l_rate = 0.3 # Learning rate\n",
    "numberofiteration = 50 # Number of iteration for optimizing parameter values\n",
    "shots = 20000 # Number of experiment shot\n",
    "backend = Aer.get_backend('qasm_simulator') # Idea backend simulator\n",
    "meas_map = None # Qubit mapping\n",
    "\n",
    "# Ansatz\n",
    "qc = RealAmplitudes(q, entanglement='linear', reps=1)\n",
    "# Initial point\n",
    "parameters = [np.random.uniform(0,2*np.pi) for i in range(qc.num_parameters)]\n",
    "# parameters = [np.random.uniform(0,(2-(i % 2))*np.pi) for i in range(2**(q+1)-2)]\n",
    "\n",
    "# Extract probabilities from backend running result\n",
    "def Res(result,p,gate):\n",
    "    value = 0\n",
    "    # Results for X terms\n",
    "    if gate == 'X':\n",
    "        for index in result:\n",
    "            if index[::-1][p:(p+1)] == '0':\n",
    "                value += result[index]\n",
    "    # Results for Z terms\n",
    "    elif gate == 'Z':\n",
    "        for index in result:\n",
    "            if index[::-1][p:(p+2)] == '00' or index[::-1][p:(p+2)] == '11':\n",
    "                value += result[index]\n",
    "    return (2*value -1)\n",
    "\n",
    "# Running iteration for updating optimal paramters\n",
    "for j in range(numberofiteration):\n",
    "    Dvqe = [0 for i in range(len(parameters))]\n",
    "    # Create Parameter-shift rule of entire Ising Hamiltonian circuits\n",
    "    Hamil_cir = []\n",
    "    for i in range(len(parameters)):\n",
    "        # Paramter-shift vector\n",
    "        PSR_parameter = [0 for i in range(len(parameters))]\n",
    "        PSR_parameter[i] = np.pi/2\n",
    "        # Two circuts for calculating derivative\n",
    "        nqc = []\n",
    "        nqc.append(qc.assign_parameters([parameters[i] + PSR_parameter[i] for i in range(len(parameters))]))\n",
    "        nqc.append(qc.assign_parameters([parameters[i] - PSR_parameter[i] for i in range(len(parameters))]))\n",
    "        # Create Ising Hamiltonian circuits\n",
    "        for k in range(2):\n",
    "            # Z term's circuits\n",
    "            Z_cir =  QuantumCircuit(q)\n",
    "            Z_cir.append(nqc[k],[i for i in range(q)])\n",
    "            # X term's circuits\n",
    "            X_cir =  QuantumCircuit(q)\n",
    "            X_cir.append(nqc[k],[i for i in range(q)])\n",
    "            X_cir.h([i for i in range(q)])\n",
    "            # Ising Hamilton circuit\n",
    "            Hamil_cir.append(Z_cir)\n",
    "            Hamil_cir.append(X_cir)\n",
    "    # Run and get results from backend running\n",
    "    job = execute(Hamil_cir, backend,meas_map=meas_map) \n",
    "    result = job.result().get_counts()\n",
    "    # Calculate derivative and update parameters\n",
    "    for i in range(len(parameters)):\n",
    "        Ising_Hamilton = [0,0]\n",
    "        for n in range(2):\n",
    "            for k in range(q):\n",
    "                # Get Ising's X term results\n",
    "                Xterm = Res(result[4*i+2*n+1],k,'X')\n",
    "                # Get Ising's Z term results\n",
    "                if k < (q-1):\n",
    "                    Zterm = Res(result[4*i+2*n],k,'Z')\n",
    "                elif k == (q-1):\n",
    "                    Zterm = 0\n",
    "                # Get Ising Hamiltonian result\n",
    "                Ising_Hamilton[n] = Ising_Hamilton[n] + Zterm + h*Xterm\n",
    "        # Derivative\n",
    "        Dvqe[i] = 1/2*(Ising_Hamilton[0]-Ising_Hamilton[1])\n",
    "        # Update parameters\n",
    "        parameters[i]-=l_rate*Dvqe[i]\n",
    "print(vqe_exact(parameters,q,h))"
   ]
  },
  {
   "cell_type": "markdown",
   "metadata": {},
   "source": [
    "**Quantum Natural Gradient Descent (Block-diagonal Approximation)**"
   ]
  },
  {
   "cell_type": "code",
   "execution_count": null,
   "metadata": {},
   "outputs": [],
   "source": [
    "q = 2\n",
    "h = 1\n",
    "l_rate = 0.2 # Learning rate\n",
    "numberofiteration = 100 # Number of iteration for optimizing parameter values\n",
    "\n",
    "# Ansatz\n",
    "RealAmp = {'qubit': q , 'entanglement': 'linear','reps':1}\n",
    "real = RealAmplitudes(RealAmp['qubit'], entanglement=RealAmp['entanglement'], reps=RealAmp['reps'])\n",
    "num_para = real.num_parameters # Number of circuit's paramters\n",
    "\n",
    "itera4 = []\n",
    "value4 = []\n",
    "\n",
    "# Initial point\n",
    "parameters = [0 for i in range(num_para)]\n",
    "\n",
    "# Create sub-circuit\n",
    "qc = [0 for i in range(int(num_para/q))]\n",
    "for k in range(int(num_para/q)):\n",
    "        qc[k] = RealAmplitudes(RealAmp['qubit'], entanglement=RealAmp['entanglement'], reps=k,skip_final_rotation_layer=True)\n",
    "\n",
    "# Running iteration for updating optimal paramters\n",
    "for l in range(numberofiteration):\n",
    "    itera4.append(l)\n",
    "    Dvqe = [0 for i in range(len(parameters))]\n",
    "    # Instantiate a vector saving parameter values, use for saving current parameter value vector\n",
    "    save_parameters = [0 for i in range(len(parameters))]\n",
    "    for i in range(len(parameters)):\n",
    "        save_parameters[i] = parameters[i]\n",
    "\n",
    "    # Metric tensor\n",
    "    g = np.zeros([num_para,num_para])\n",
    "    sqc = [0 for i in range(int(num_para/q))]\n",
    "    for m in range(num_para):\n",
    "        k = m/q\n",
    "        if k.is_integer():\n",
    "            k = int(k)\n",
    "            sqc[k] =  qc[k].assign_parameters(parameters[:q*k])\n",
    "            for i in range(q):\n",
    "                for j in range(q):\n",
    "                    # Diagonal elements g_ii\n",
    "                    if j == i: \n",
    "                        g[i+q*k,j+q*k] = 1 - Expectation_Exact('Y',j,circ=sqc[k])**2\n",
    "                    # Non-diagonal elements g_ij\n",
    "                    else:\n",
    "                        g[i+q*k,j+q*k]= Expectation_Exact('YY',i,j,circ= sqc[k])-Expectation_Exact('Y',i,circ= sqc[k])*Expectation_Exact('Y',j,circ = sqc[k])\n",
    "\n",
    "    # Paramter-shift rules\n",
    "        PSR_parameter = [0 for i in range(len(parameters))]\n",
    "        PSR_parameter[m] = np.pi/2\n",
    "        Dvqe[m] = (1/2*(vqe_exact([save_parameters[i] + PSR_parameter[i] for i in range(len(save_parameters))],q,h)-vqe_exact([save_parameters[i] - PSR_parameter[i] for i in range(len(save_parameters))],q,h)))\n",
    "    \n",
    "    # Pseudo-inverse\n",
    "    g = linalg.pinv(g)\n",
    "    # Update papramter\n",
    "    for i in range(num_para):\n",
    "        for j in range(num_para):\n",
    "            parameters[i]-=l_rate*g[i,j]*Dvqe[j]\n",
    "    value4.append(vqe_exact(parameters,q,h))"
   ]
  },
  {
   "cell_type": "markdown",
   "metadata": {},
   "source": [
    "**Running examples**"
   ]
  },
  {
   "cell_type": "markdown",
   "metadata": {},
   "source": [
    "*Classical solver*"
   ]
  },
  {
   "cell_type": "code",
   "execution_count": 20,
   "metadata": {},
   "outputs": [],
   "source": [
    "q = 2\n",
    "tol = 1e-3\n",
    "\n",
    "cvalue = []\n",
    "hvalue = []\n",
    "\n",
    "\n",
    "for i in range(20):\n",
    "    h=i/10\n",
    "    hvalue.append(h)\n",
    "    # Ising matrix Hamilton\n",
    "    op = Ising_Hamilton(q,h) \n",
    "\n",
    "    # Classical solver\n",
    "    w,v = np.linalg.eig(Operator(op))\n",
    "    minimum=w[0]\n",
    "    min_spot=0\n",
    "    for i in range(1,2**q):\n",
    "        if w[i]<minimum:\n",
    "            min_spot=i\n",
    "            minimum=w[i]                   \n",
    "    groundstate = v[:,min_spot]\n",
    "    cvalue.append(minimum)"
   ]
  },
  {
   "cell_type": "markdown",
   "metadata": {},
   "source": [
    "*VQE qiskit solver - TwoLocal ansatz*"
   ]
  },
  {
   "cell_type": "code",
   "execution_count": 21,
   "metadata": {},
   "outputs": [],
   "source": [
    "twovalue = []\n",
    "two = TwoLocal(q, ['ry','rz'], 'cz', 'full', reps=1, insert_barriers=True)\n",
    "optimizer = COBYLA(maxiter=1000)\n",
    "for i in range(20):\n",
    "    h=i/10 \n",
    "    op = Ising_Hamilton(q,h) \n",
    "    # VQE qiskit solver, Two Local ansatz\n",
    "    vqe = VQE(two,optimizer=optimizer,quantum_instance=quantum_instance) # Method solver\n",
    "    result = vqe.compute_minimum_eigenvalue(op) # Compute minimum eigenvalue\n",
    "    twovalue.append(result.optimal_value)"
   ]
  },
  {
   "cell_type": "markdown",
   "metadata": {},
   "source": [
    "*VQE qiskit solver - EfficientSU2 ansatz*"
   ]
  },
  {
   "cell_type": "code",
   "execution_count": 22,
   "metadata": {},
   "outputs": [],
   "source": [
    "effvalue = []\n",
    "eff = EfficientSU2(q, reps=1, entanglement='linear', insert_barriers=True)\n",
    "optimizer = COBYLA(maxiter=1000)\n",
    "for i in range(20):\n",
    "    h=i/10\n",
    "    op = Ising_Hamilton(q,h) \n",
    "    # VQE qiskit solver, EfficientSU2 ansatz\n",
    "    vqe = VQE(eff,optimizer=optimizer,quantum_instance=quantum_instance) # Method solver\n",
    "    result = vqe.compute_minimum_eigenvalue(op) # Compute minimum eigenvalue\n",
    "    effvalue.append(result.optimal_value)"
   ]
  },
  {
   "cell_type": "markdown",
   "metadata": {},
   "source": [
    "*VQE qiskit solver - RealAmplitude ansatz*"
   ]
  },
  {
   "cell_type": "code",
   "execution_count": 23,
   "metadata": {},
   "outputs": [],
   "source": [
    "realvalue = []\n",
    "real = RealAmplitudes(q, entanglement='linear', reps=1, insert_barriers=True)\n",
    "optimizer = COBYLA(maxiter=1000)\n",
    "for i in range(20):\n",
    "    h=i/10\n",
    "    op = Ising_Hamilton(q,h)\n",
    "    # VQE qiskit solver, RealAmplitude ansatz\n",
    "    vqe = VQE(real,optimizer=optimizer,quantum_instance=quantum_instance) # Method solver\n",
    "    result = vqe.compute_minimum_eigenvalue(op) # Compute minimum eigenvalue\n",
    "    realvalue.append(result.optimal_value)"
   ]
  },
  {
   "cell_type": "markdown",
   "metadata": {},
   "source": [
    "*Manual VQE solver - General Ansatz*"
   ]
  },
  {
   "cell_type": "code",
   "execution_count": 24,
   "metadata": {},
   "outputs": [],
   "source": [
    "realvalue0 = []\n",
    "parameters = ParameterVector('θ', 2**(q+1)-2)\n",
    "State = PrepareState_Gen(parameters,q)\n",
    "for i in range(20):\n",
    "    h=i/10\n",
    "    # My VQE code solver, RealAmplitude\n",
    "    parameter = [np.random.uniform(0,(2-(i % 2))*np.pi) for i in range(State.num_parameters)] # Initial point\n",
    "    re = minimize(vqe_exact,parameter,args=(q, h),method=\"COBYLA\",tol=tol) # Compute minimum eigenvalue\n",
    "    realvalue0.append(re.fun)"
   ]
  },
  {
   "cell_type": "markdown",
   "metadata": {},
   "source": [
    "*Plot the comparison*"
   ]
  },
  {
   "cell_type": "code",
   "execution_count": 28,
   "metadata": {},
   "outputs": [
    {
     "data": {
      "image/png": "[encoded data removed]",
      "text/plain": [
       "<Figure size 432x288 with 1 Axes>"
      ]
     },
     "metadata": {
      "needs_background": "light"
     },
     "output_type": "display_data"
    }
   ],
   "source": [
    "plt.plot(hvalue, np.real(cvalue), 'r-',label='Classical diagonal method')\n",
    "plt.plot(hvalue, twovalue, 'ro',label='VQE qiskit (TwoLocal, Cobyla)')\n",
    "plt.plot(hvalue, effvalue, 'bo',label='VQE qiskit (EfficientSU2, Cobyla)')\n",
    "plt.plot(hvalue, realvalue, 'go',label='VQE qiskit (RealAmplitude, Cobyla)')\n",
    "plt.plot(hvalue, realvalue0, 'co',label='VQE (Gen Ansatz, Cobyla)')\n",
    "\n",
    "plt.legend(loc='best')\n",
    "plt.title('Two Qubit Ising Ground State Energy')\n",
    "plt.ylabel('Ground State Energy')\n",
    "plt.xlabel('h value')\n",
    "plt.show()"
   ]
  }
 ],
 "metadata": {
  "kernelspec": {
   "display_name": "Python 3.9.13 64-bit (windows store)",
   "language": "python",
   "name": "python3"
  },
  "language_info": {
   "codemirror_mode": {
    "name": "ipython",
    "version": 3
   },
   "file_extension": ".py",
   "mimetype": "text/x-python",
   "name": "python",
   "nbconvert_exporter": "python",
   "pygments_lexer": "ipython3",
   "version": "3.9.13"
  },
  "orig_nbformat": 4,
  "vscode": {
   "interpreter": {
    "hash": "822f778737178fe76a6ff500c230e38a1f3004a1451c350514bba9d63e701910"
   }
  }
 },
 "nbformat": 4,
 "nbformat_minor": 2
}
