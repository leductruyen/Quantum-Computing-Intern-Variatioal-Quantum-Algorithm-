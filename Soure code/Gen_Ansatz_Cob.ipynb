{
 "cells": [
  {
   "cell_type": "code",
   "execution_count": 1,
   "metadata": {},
   "outputs": [],
   "source": [
    "from qiskit.circuit import Parameter, ParameterVector, QuantumCircuit, QuantumRegister, ClassicalRegister\n",
    "from qiskit.algorithms.optimizers import COBYLA\n",
    "import numpy as np \n",
    "from numpy import sqrt, pi, linalg\n",
    "from scipy.linalg import sqrtm\n",
    "import matplotlib.pyplot as plt\n",
    "from scipy.optimize import minimize\n",
    "from qiskit.algorithms import VQE, NumPyMinimumEigensolver\n",
    "from qiskit import Aer, transpile, assemble\n",
    "from qiskit.utils import QuantumInstance\n",
    "from qiskit.visualization import plot_histogram, plot_state_city, plot_bloch_multivector, plot_bloch_vector, plot_state_qsphere\n",
    "from qiskit.quantum_info import Statevector, Operator, Pauli\n",
    "from qiskit.opflow import Z, X, I, StateFn, CircuitStateFn, SummedOp, PauliOp"
   ]
  },
  {
   "cell_type": "markdown",
   "metadata": {},
   "source": [
    "**General Ansatz Generator**\n"
   ]
  },
  {
   "cell_type": "code",
   "execution_count": 3,
   "metadata": {},
   "outputs": [],
   "source": [
    "# Prepare general State Circuit (n Qubit)-Multicontrol qubit\n",
    "def PrepareState_Gen(parameter,q = 2):\n",
    "    # Multi control U3 gate\n",
    "    def MCUGate(p1,p2,ctrlqubit):\n",
    "        ctrl = QuantumCircuit(1, name='U3')\n",
    "        # U3 decompose\n",
    "        ctrl.rz(p2,0)\n",
    "        ctrl.rx(-np.pi/2,0)\n",
    "        ctrl.rz(p1,0)\n",
    "        ctrl.rx(np.pi/2,0)\n",
    "        ctrl.rz(-p2,0)\n",
    "        # U3 decompose\n",
    "        ctrl = ctrl.to_gate().control(ctrlqubit)\n",
    "        return ctrl\n",
    "\n",
    "    # State's bit string converter\n",
    "    def Bitstring(inter,leng):\n",
    "        result = []\n",
    "        while inter >= 2:\n",
    "            d = inter % 2\n",
    "            inter = inter//2\n",
    "            result.append(d)\n",
    "        result.append(inter)\n",
    "        for i in range(leng-len(result)):\n",
    "            result.append(0)\n",
    "        return result\n",
    "        \n",
    "    # Generate general ansatz circuit\n",
    "    qg = QuantumRegister(q,'q')\n",
    "    qc = QuantumCircuit(qg)\n",
    "    qc.u(parameter[0],parameter[1],-parameter[1],q-1)\n",
    "    qc.barrier(range(q))\n",
    "    theta = 2\n",
    "    # Apply multi-control qubit gate\n",
    "    for i in range(q-1):\n",
    "        listctrl = [ i+n+1 for n in range(q-i-1)]\n",
    "        listctrl.append(i)\n",
    "        for j in range(2**(q-i-1)):\n",
    "            bitstring = Bitstring(j,q-i-1)\n",
    "            for n in range(q-i-1):\n",
    "                if bitstring[n] == 0:\n",
    "                    qc.x(i+n+1)\n",
    "            qc.append(MCUGate(parameter[theta],parameter[theta+1],q-i-1),listctrl) \n",
    "            for n in range(q-i-1):\n",
    "                if bitstring[n] == 0:\n",
    "                    qc.x(i+n+1) \n",
    "            theta +=2\n",
    "        qc.barrier(range(q))\n",
    "    return qc"
   ]
  },
  {
   "cell_type": "markdown",
   "metadata": {},
   "source": [
    "**General Ansatz**"
   ]
  },
  {
   "cell_type": "code",
   "execution_count": 4,
   "metadata": {},
   "outputs": [
    {
     "data": {
      "image/png": "[encoded data removed]",
      "text/plain": [
       "<Figure size 1350.65x144.48 with 1 Axes>"
      ]
     },
     "execution_count": 4,
     "metadata": {},
     "output_type": "execute_result"
    }
   ],
   "source": [
    "q = 2\n",
    "\n",
    "parameters = ParameterVector('θ', 2**(q+1)-2)\n",
    "param_dict = {parameter: np.random.random() for parameter in parameters}\n",
    "\n",
    "State = PrepareState_Gen(parameters,q)\n",
    "State = State.assign_parameters(parameters = param_dict)\n",
    "State.draw(output='mpl')"
   ]
  },
  {
   "cell_type": "markdown",
   "metadata": {},
   "source": [
    "**Ising Hamiltonian Operator**"
   ]
  },
  {
   "cell_type": "code",
   "execution_count": 5,
   "metadata": {},
   "outputs": [],
   "source": [
    "def Ising_Hamilton(q,h):\n",
    "    Ising_Hamilton = 0\n",
    "    for i in range(q):\n",
    "        Zterm  = 1\n",
    "        Xterm  = 1\n",
    "        for j in range(q-1):\n",
    "            if j == i:\n",
    "                Zterm = Zterm^Z^Z\n",
    "                Xterm  = Xterm^X^I\n",
    "            elif i == (q-1) and j == (i-1):\n",
    "                Xterm = Xterm^I^X\n",
    "                Zterm = 0\n",
    "            else:\n",
    "                Zterm = Zterm^I\n",
    "                Xterm = Xterm^I\n",
    "        Ising_Hamilton = Ising_Hamilton + Zterm + h*Xterm\n",
    "    return Ising_Hamilton"
   ]
  },
  {
   "cell_type": "markdown",
   "metadata": {},
   "source": [
    "**Classical running**"
   ]
  },
  {
   "cell_type": "code",
   "execution_count": 6,
   "metadata": {},
   "outputs": [],
   "source": [
    "# Classical running\n",
    "q = 2\n",
    "cvalue = []\n",
    "hvalue = []\n",
    "\n",
    "\n",
    "for i in range(20):\n",
    "    h = i/10\n",
    "    hvalue.append(h)\n",
    "    op = Ising_Hamilton(q,h) \n",
    "\n",
    "    # Classical solver\n",
    "    w,v = np.linalg.eig(Operator(op))\n",
    "    minimum=w[0]\n",
    "    min_spot=0\n",
    "    for i in range(1,2**q):\n",
    "        if w[i]<minimum:\n",
    "            min_spot=i\n",
    "            minimum=w[i]                   \n",
    "    groundstate = v[:,min_spot]\n",
    "    cvalue.append(minimum)"
   ]
  },
  {
   "cell_type": "markdown",
   "metadata": {},
   "source": [
    "**VQE (using Qiskit function) running**"
   ]
  },
  {
   "cell_type": "code",
   "execution_count": 7,
   "metadata": {},
   "outputs": [],
   "source": [
    "# Array value\n",
    "newhvalue = []\n",
    "Gen_value = []\n",
    "\n",
    "# Callback data\n",
    "counts = []\n",
    "values = []\n",
    "params = []\n",
    "deviation = []\n",
    "def callback(eval_count, parameters, mean, std):  \n",
    "    counts.append(eval_count)\n",
    "    values.append(mean)\n",
    "    params.append(parameters)\n",
    "    deviation.append(std)\n",
    "\n",
    "# Backend and Optimizer\n",
    "optimizer = COBYLA(maxiter=1000)\n",
    "backend = Aer.get_backend('qasm_simulator')\n",
    "seed = 132     #set random seed\n",
    "quantum_instance = QuantumInstance(backend=backend, seed_simulator=seed, seed_transpiler=seed, shots=20000)"
   ]
  },
  {
   "cell_type": "code",
   "execution_count": 8,
   "metadata": {},
   "outputs": [],
   "source": [
    "for i in [0, 0.3, 0.6, 0.9, 1.2, 1.5, 1.8]:\n",
    "    h = i\n",
    "    newhvalue.append(h)\n",
    "    op = Ising_Hamilton(q,h) \n",
    "    \n",
    "    # Paramerized General Ansatzs\n",
    "    parameter = ParameterVector('θ', 2**(q+1)-2)\n",
    "    Gen_ans = PrepareState_Gen(parameter,q)\n",
    "\n",
    "    # Instantiate randomly value of parameters\n",
    "    parameters = [np.random.uniform(0,(2-(i % 2))*np.pi) for i in range(Gen_ans.num_parameters)]\n",
    "    \n",
    "    # VQE Qiskit running\n",
    "    vqer = VQE(Gen_ans,optimizer=optimizer,quantum_instance=quantum_instance, initial_point=parameters,callback=callback)\n",
    "    result = vqer.compute_minimum_eigenvalue(op)\n",
    "    Gen_value.append(result.optimal_value)"
   ]
  },
  {
   "cell_type": "markdown",
   "metadata": {},
   "source": [
    "**Result Visualization**"
   ]
  },
  {
   "cell_type": "code",
   "execution_count": 10,
   "metadata": {},
   "outputs": [
    {
     "data": {
      "image/png": "[encoded data removed]",
      "text/plain": [
       "<Figure size 432x288 with 1 Axes>"
      ]
     },
     "metadata": {
      "needs_background": "light"
     },
     "output_type": "display_data"
    }
   ],
   "source": [
    "\n",
    "plt.plot(hvalue, cvalue, '--',label='Classical Diagonal method')\n",
    "plt.plot(newhvalue, Gen_value, 'r*',label='Gen Ansatz, Cobyla')\n",
    "\n",
    "plt.legend(loc='best',fontsize='x-small')\n",
    "\n",
    "plt.title('2 Qubit Ising Ground State Energy')\n",
    "plt.ylabel('Ground State Energy')\n",
    "plt.xlabel('h value')\n",
    "plt.show()"
   ]
  }
 ],
 "metadata": {
  "kernelspec": {
   "display_name": "Python 3.9.13 64-bit (microsoft store)",
   "language": "python",
   "name": "python3"
  },
  "language_info": {
   "codemirror_mode": {
    "name": "ipython",
    "version": 3
   },
   "file_extension": ".py",
   "mimetype": "text/x-python",
   "name": "python",
   "nbconvert_exporter": "python",
   "pygments_lexer": "ipython3",
   "version": "3.9.13"
  },
  "orig_nbformat": 4,
  "vscode": {
   "interpreter": {
    "hash": "822f778737178fe76a6ff500c230e38a1f3004a1451c350514bba9d63e701910"
   }
  }
 },
 "nbformat": 4,
 "nbformat_minor": 2
}
